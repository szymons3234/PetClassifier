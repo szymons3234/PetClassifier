{
 "cells": [
  {
   "cell_type": "markdown",
   "id": "be403a69-add8-4ed6-9e90-865c8de34698",
   "metadata": {},
   "source": [
    "# Sorting photos into appropriate folders"
   ]
  },
  {
   "cell_type": "code",
   "execution_count": null,
   "id": "46cc89d1-ec0a-4a0c-8e94-2265d85cd40b",
   "metadata": {},
   "outputs": [],
   "source": [
    "import cv2\n",
    "import numpy as np\n",
    "import os\n",
    "\n",
    "data_dir = \"data/\"\n",
    "images = []\n",
    "labels = []\n",
    "\n",
    "for file in os.listdir(data_dir):\n",
    "    if file.endswith(\".jpg\") or file.endswith(\".png\"):  # Sprawdzenie rozszerzenia\n",
    "        img_path = os.path.join(data_dir, file)\n",
    "        \n",
    "        try:\n",
    "            img = cv2.imread(img_path)  # Wczytanie obrazu\n",
    "            if img is None:\n",
    "                continue  # Pomiń uszkodzony obraz\n",
    "            \n",
    "            img = cv2.resize(img, (224, 224))  # Dopasowanie do tego samego rozmiaru\n",
    "            images.append(img)\n",
    "            \n",
    "            # Przypisz etykietę (np. po nazwie pliku)\n",
    "            label = file.split(\"_\")[0]  # np. \"labrador_001.jpg\" → \"labrador\"\n",
    "            labels.append(label)\n",
    "            \n",
    "        except Exception as e:\n",
    "            print(f\"Error reading {img_path}: {e}\")\n",
    "            continue\n",
    "\n",
    "# Upewnij się, że masz obrazy w jednej tablicy\n",
    "images = np.array(images)  # Możesz także sprawdzić kształt images przed konwersją\n",
    "print(images.shape)  # Sprawdzanie wymiarów obrazów\n",
    "\n",
    "# Jeśli wszystko jest OK, możesz normalizować:\n",
    "images = images / 255.0\n"
   ]
  }
 ],
 "metadata": {
  "kernelspec": {
   "display_name": "Python 3 (ipykernel)",
   "language": "python",
   "name": "python3"
  },
  "language_info": {
   "codemirror_mode": {
    "name": "ipython",
    "version": 3
   },
   "file_extension": ".py",
   "mimetype": "text/x-python",
   "name": "python",
   "nbconvert_exporter": "python",
   "pygments_lexer": "ipython3",
   "version": "3.9.21"
  }
 },
 "nbformat": 4,
 "nbformat_minor": 5
}
